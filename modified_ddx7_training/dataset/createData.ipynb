{
 "cells": [
  {
   "cell_type": "code",
   "execution_count": 1,
   "id": "fe5062c6-c108-4b16-8845-de2bd79ea57e",
   "metadata": {},
   "outputs": [],
   "source": [
    "import create_data as cd\n",
    "import yaml"
   ]
  },
  {
   "cell_type": "code",
   "execution_count": 2,
   "id": "0ca054cf-ebce-4df8-8714-ca5d8a25f60f",
   "metadata": {},
   "outputs": [
    {
     "name": "stdout",
     "output_type": "stream",
     "text": [
      "{'testset': {'source_folder': '/homes/fsc01/proj/wavetest', 'instruments': ['violin', 'flute', 'trumpet'], 'contiguous': True, 'clip_noise': True, 'input_dir': 'files/test', 'output_dir': 'data/test'}, 'urmp': {'source_folder': './URMP/Dataset', 'instruments': {'vn': 'violin', 'tpt': 'trumpet', 'fl': 'flute'}, 'mono_regex': 'AuSep', 'num_workers': 4, 'input_dir': 'files/train', 'output_dir': 'data/train'}, 'data_processor': {'_target_': 'create_data.ProcessData', 'silence_thresh_dB': 40, 'sr': 16000, 'device': 'cpu:0', 'crepe_params': {'model': 'full', 'confidence_threshold': 0.8, 'batch_size': 128, 'fmin': 50, 'fmax': 2000}, 'loudness_params': {'nfft': 2048}, 'rms_params': {'frame_size': 2048}, 'hop_size': 64, 'max_len': 4, 'seq_len': 3, 'debug': False, 'center': False}, 'hydra': {'run': {'dir': 'outputs/null'}}, 'process_urmp': True, 'process_testset': False, 'skip_copy': False, 'skip_process': False}\n",
      "40\n"
     ]
    }
   ],
   "source": [
    "hyperparams = yaml.safe_load(open('data_config.yaml'))\n",
    "print(hyperparams)\n",
    "print(hyperparams['data_processor']['silence_thresh_dB'])\n",
    "\n",
    "processor = cd.ProcessData(hyperparams['data_processor']['silence_thresh_dB'], hyperparams['data_processor']['sr'],\n",
    "                       hyperparams['data_processor']['device'], hyperparams['data_processor']['seq_len'],\n",
    "                       hyperparams['data_processor']['hop_size'], hyperparams['data_processor']['max_len'])"
   ]
  },
  {
   "cell_type": "code",
   "execution_count": 3,
   "id": "aa208571-0c15-4f5c-8e94-0ed5094a4844",
   "metadata": {},
   "outputs": [
    {
     "name": "stdout",
     "output_type": "stream",
     "text": [
      "[INFO] URMP Path: data\\good-sounds\n",
      "[INFO] Number of files: 73\n"
     ]
    },
    {
     "name": "stderr",
     "output_type": "stream",
     "text": [
      "  0%|                                                                                           | 0/73 [00:00<?, ?it/s]"
     ]
    },
    {
     "name": "stdout",
     "output_type": "stream",
     "text": [
      "Processing: data\\good-sounds\\violin_laia_improvement_recordings\\neumann\\0000.wav\n"
     ]
    },
    {
     "name": "stderr",
     "output_type": "stream",
     "text": [
      "  5%|████▌                                                                              | 4/73 [00:00<00:11,  6.19it/s]"
     ]
    },
    {
     "name": "stdout",
     "output_type": "stream",
     "text": [
      "Processing: data\\good-sounds\\violin_laia_improvement_recordings\\neumann\\0001.wav\n",
      "Processing: data\\good-sounds\\violin_laia_improvement_recordings\\neumann\\0002.wav\n",
      "Processing: data\\good-sounds\\violin_laia_improvement_recordings\\neumann\\0003.wav\n",
      "Processing: data\\good-sounds\\violin_laia_improvement_recordings\\neumann\\0004.wav\n",
      "Processing: data\\good-sounds\\violin_laia_improvement_recordings\\neumann\\0005.wav\n",
      "Processing: data\\good-sounds\\violin_laia_improvement_recordings\\neumann\\0006.wav\n",
      "Processing: data\\good-sounds\\violin_laia_improvement_recordings\\neumann\\0007.wav\n"
     ]
    },
    {
     "name": "stderr",
     "output_type": "stream",
     "text": [
      " 19%|███████████████▋                                                                  | 14/73 [00:01<00:03, 18.83it/s]"
     ]
    },
    {
     "name": "stdout",
     "output_type": "stream",
     "text": [
      "Processing: data\\good-sounds\\violin_laia_improvement_recordings\\neumann\\0008.wav\n",
      "Processing: data\\good-sounds\\violin_laia_improvement_recordings\\neumann\\0009.wav\n",
      "Processing: data\\good-sounds\\violin_laia_improvement_recordings\\neumann\\0010.wav\n",
      "Processing: data\\good-sounds\\violin_laia_improvement_recordings\\neumann\\0011.wav\n",
      "Processing: data\\good-sounds\\violin_laia_improvement_recordings\\neumann\\0012.wav\n",
      "Processing: data\\good-sounds\\violin_laia_improvement_recordings\\neumann\\0013.wav\n"
     ]
    },
    {
     "name": "stderr",
     "output_type": "stream",
     "text": [
      " 25%|████████████████████▏                                                             | 18/73 [00:01<00:02, 22.59it/s]"
     ]
    },
    {
     "name": "stdout",
     "output_type": "stream",
     "text": [
      "Processing: data\\good-sounds\\violin_laia_improvement_recordings\\neumann\\0014.wav\n",
      "Processing: data\\good-sounds\\violin_laia_improvement_recordings\\neumann\\0015.wav\n",
      "Processing: data\\good-sounds\\violin_laia_improvement_recordings\\neumann\\0016.wav\n",
      "Processing: data\\good-sounds\\violin_laia_improvement_recordings\\neumann\\0017.wav\n",
      "Processing: data\\good-sounds\\violin_laia_improvement_recordings\\neumann\\0018.wav\n",
      "Processing: data\\good-sounds\\violin_laia_improvement_recordings\\neumann\\0019.wav\n",
      "Processing: data\\good-sounds\\violin_laia_improvement_recordings\\neumann\\0020.wav\n"
     ]
    },
    {
     "name": "stderr",
     "output_type": "stream",
     "text": [
      " 34%|████████████████████████████                                                      | 25/73 [00:01<00:01, 26.31it/s]"
     ]
    },
    {
     "name": "stdout",
     "output_type": "stream",
     "text": [
      "Processing: data\\good-sounds\\violin_laia_improvement_recordings\\neumann\\0021.wav\n",
      "Processing: data\\good-sounds\\violin_laia_improvement_recordings\\neumann\\0022.wav\n",
      "Processing: data\\good-sounds\\violin_laia_improvement_recordings\\neumann\\0023.wav\n",
      "Processing: data\\good-sounds\\violin_laia_improvement_recordings\\neumann\\0024.wav\n",
      "Processing: data\\good-sounds\\violin_laia_improvement_recordings\\neumann\\0025.wav\n",
      "Processing: data\\good-sounds\\violin_laia_improvement_recordings\\neumann\\0026.wav\n",
      "Processing: data\\good-sounds\\violin_laia_improvement_recordings\\neumann\\0027.wav\n"
     ]
    },
    {
     "name": "stderr",
     "output_type": "stream",
     "text": [
      " 42%|██████████████████████████████████▊                                               | 31/73 [00:01<00:01, 27.24it/s]"
     ]
    },
    {
     "name": "stdout",
     "output_type": "stream",
     "text": [
      "Processing: data\\good-sounds\\violin_laia_improvement_recordings\\neumann\\0028.wav\n",
      "Processing: data\\good-sounds\\violin_laia_improvement_recordings\\neumann\\0029.wav\n",
      "Processing: data\\good-sounds\\violin_laia_improvement_recordings\\neumann\\0030.wav\n",
      "Processing: data\\good-sounds\\violin_laia_improvement_recordings\\neumann\\0031.wav\n",
      "Processing: data\\good-sounds\\violin_laia_improvement_recordings\\neumann\\0032.wav\n",
      "Processing: data\\good-sounds\\violin_laia_improvement_recordings\\neumann\\0033.wav\n"
     ]
    },
    {
     "name": "stderr",
     "output_type": "stream",
     "text": [
      " 52%|██████████████████████████████████████████▋                                       | 38/73 [00:01<00:01, 28.80it/s]"
     ]
    },
    {
     "name": "stdout",
     "output_type": "stream",
     "text": [
      "Processing: data\\good-sounds\\violin_laia_improvement_recordings\\neumann\\0034.wav\n",
      "Processing: data\\good-sounds\\violin_laia_improvement_recordings\\neumann\\0035.wav\n",
      "Processing: data\\good-sounds\\violin_laia_improvement_recordings\\neumann\\0036.wav\n",
      "Processing: data\\good-sounds\\violin_laia_improvement_recordings\\neumann\\0037.wav\n",
      "Processing: data\\good-sounds\\violin_laia_improvement_recordings\\neumann\\0038.wav\n",
      "Processing: data\\good-sounds\\violin_laia_improvement_recordings\\neumann\\0039.wav\n",
      "Processing: data\\good-sounds\\violin_laia_improvement_recordings\\neumann\\0040.wav\n"
     ]
    },
    {
     "name": "stderr",
     "output_type": "stream",
     "text": [
      " 62%|██████████████████████████████████████████████████▌                               | 45/73 [00:02<00:00, 29.42it/s]"
     ]
    },
    {
     "name": "stdout",
     "output_type": "stream",
     "text": [
      "Processing: data\\good-sounds\\violin_laia_improvement_recordings\\neumann\\0041.wav\n",
      "Processing: data\\good-sounds\\violin_laia_improvement_recordings\\neumann\\0042.wav\n",
      "Processing: data\\good-sounds\\violin_laia_improvement_recordings\\neumann\\0043.wav\n",
      "Processing: data\\good-sounds\\violin_laia_improvement_recordings\\neumann\\0044.wav\n",
      "Processing: data\\good-sounds\\violin_laia_improvement_recordings\\neumann\\0045.wav\n",
      "Processing: data\\good-sounds\\violin_laia_improvement_recordings\\neumann\\0046.wav\n"
     ]
    },
    {
     "name": "stderr",
     "output_type": "stream",
     "text": [
      " 71%|██████████████████████████████████████████████████████████▍                       | 52/73 [00:02<00:00, 30.15it/s]"
     ]
    },
    {
     "name": "stdout",
     "output_type": "stream",
     "text": [
      "Processing: data\\good-sounds\\violin_laia_improvement_recordings\\neumann\\0047.wav\n",
      "Processing: data\\good-sounds\\violin_laia_improvement_recordings\\neumann\\0048.wav\n",
      "Processing: data\\good-sounds\\violin_laia_improvement_recordings\\neumann\\0049.wav\n",
      "Processing: data\\good-sounds\\violin_laia_improvement_recordings\\neumann\\0050.wav\n",
      "Processing: data\\good-sounds\\violin_laia_improvement_recordings\\neumann\\0051.wav\n",
      "Processing: data\\good-sounds\\violin_laia_improvement_recordings\\neumann\\0052.wav\n",
      "Processing: data\\good-sounds\\violin_laia_improvement_recordings\\neumann\\0053.wav\n"
     ]
    },
    {
     "name": "stderr",
     "output_type": "stream",
     "text": [
      " 82%|███████████████████████████████████████████████████████████████████▍              | 60/73 [00:02<00:00, 33.19it/s]"
     ]
    },
    {
     "name": "stdout",
     "output_type": "stream",
     "text": [
      "Processing: data\\good-sounds\\violin_laia_improvement_recordings\\neumann\\0054.wav\n",
      "Processing: data\\good-sounds\\violin_laia_improvement_recordings\\neumann\\0055.wav\n",
      "Processing: data\\good-sounds\\violin_laia_improvement_recordings\\neumann\\0056.wav\n",
      "Processing: data\\good-sounds\\violin_laia_improvement_recordings\\neumann\\0057.wav\n",
      "Processing: data\\good-sounds\\violin_laia_improvement_recordings\\neumann\\0058.wav\n",
      "Processing: data\\good-sounds\\violin_laia_improvement_recordings\\neumann\\0059.wav\n",
      "Processing: data\\good-sounds\\violin_laia_improvement_recordings\\neumann\\0060.wav\n",
      "Processing: data\\good-sounds\\violin_laia_improvement_recordings\\neumann\\0061.wav\n"
     ]
    },
    {
     "name": "stderr",
     "output_type": "stream",
     "text": [
      " 93%|████████████████████████████████████████████████████████████████████████████▍     | 68/73 [00:02<00:00, 34.34it/s]"
     ]
    },
    {
     "name": "stdout",
     "output_type": "stream",
     "text": [
      "Processing: data\\good-sounds\\violin_laia_improvement_recordings\\neumann\\0062.wav\n",
      "Processing: data\\good-sounds\\violin_laia_improvement_recordings\\neumann\\0063.wav\n",
      "Processing: data\\good-sounds\\violin_laia_improvement_recordings\\neumann\\0064.wav\n",
      "Processing: data\\good-sounds\\violin_laia_improvement_recordings\\neumann\\0065.wav\n",
      "Processing: data\\good-sounds\\violin_laia_improvement_recordings\\neumann\\0066.wav\n",
      "Processing: data\\good-sounds\\violin_laia_improvement_recordings\\neumann\\0067.wav\n",
      "Processing: data\\good-sounds\\violin_laia_improvement_recordings\\neumann\\0068.wav\n",
      "Processing: data\\good-sounds\\violin_laia_improvement_recordings\\neumann\\0069.wav\n"
     ]
    },
    {
     "name": "stderr",
     "output_type": "stream",
     "text": [
      "100%|██████████████████████████████████████████████████████████████████████████████████| 73/73 [00:02<00:00, 24.36it/s]\n"
     ]
    },
    {
     "name": "stdout",
     "output_type": "stream",
     "text": [
      "Processing: data\\good-sounds\\violin_laia_improvement_recordings\\neumann\\0070.wav\n",
      "Processing: data\\good-sounds\\violin_laia_improvement_recordings\\neumann\\0071.wav\n",
      "Processing: data\\good-sounds\\violin_laia_improvement_recordings\\neumann\\0072.wav\n",
      "(20, 141)\n"
     ]
    },
    {
     "name": "stderr",
     "output_type": "stream",
     "text": [
      "  0%|                                                                                           | 0/73 [00:00<?, ?it/s]"
     ]
    },
    {
     "name": "stdout",
     "output_type": "stream",
     "text": [
      "(20, 112)"
     ]
    },
    {
     "name": "stderr",
     "output_type": "stream",
     "text": [
      "  4%|███▍                                                                               | 3/73 [00:00<00:03, 22.22it/s]"
     ]
    },
    {
     "name": "stdout",
     "output_type": "stream",
     "text": [
      "\n",
      "(20, 122)\n",
      "(20, 114)\n",
      "(20, 99)\n",
      "(20, 79)\n",
      "(20, 102)\n"
     ]
    },
    {
     "name": "stderr",
     "output_type": "stream",
     "text": [
      " 12%|██████████▏                                                                        | 9/73 [00:00<00:02, 23.55it/s]"
     ]
    },
    {
     "name": "stdout",
     "output_type": "stream",
     "text": [
      "(20, 102)\n",
      "(20, 141)\n",
      "(20, 115)\n",
      "(20, 94)\n",
      "(20, 110)\n"
     ]
    },
    {
     "name": "stderr",
     "output_type": "stream",
     "text": [
      " 21%|████████████████▊                                                                 | 15/73 [00:00<00:02, 24.15it/s]"
     ]
    },
    {
     "name": "stdout",
     "output_type": "stream",
     "text": [
      "(20, 110)\n",
      "(20, 110)\n",
      "(20, 94)\n",
      "(20, 108)\n",
      "(20, 94)\n",
      "(20, 85)\n"
     ]
    },
    {
     "name": "stderr",
     "output_type": "stream",
     "text": [
      " 29%|███████████████████████▌                                                          | 21/73 [00:00<00:02, 25.03it/s]"
     ]
    },
    {
     "name": "stdout",
     "output_type": "stream",
     "text": [
      "(20, 110)\n",
      "(20, 94)\n",
      "(20, 113)\n",
      "(20, 94)\n",
      "(20, 94)\n",
      "(20, 103)\n"
     ]
    },
    {
     "name": "stderr",
     "output_type": "stream",
     "text": [
      " 37%|██████████████████████████████▎                                                   | 27/73 [00:01<00:01, 24.02it/s]"
     ]
    },
    {
     "name": "stdout",
     "output_type": "stream",
     "text": [
      "(20, 110)\n",
      "(20, 112)\n",
      "(20, 119)\n",
      "(20, 126)\n",
      "(20, 110)\n"
     ]
    },
    {
     "name": "stderr",
     "output_type": "stream",
     "text": [
      " 45%|█████████████████████████████████████                                             | 33/73 [00:01<00:01, 23.84it/s]"
     ]
    },
    {
     "name": "stdout",
     "output_type": "stream",
     "text": [
      "(20, 110)\n",
      "(20, 116)\n",
      "(20, 94)\n",
      "(20, 123)\n",
      "(20, 110)\n",
      "(20, 104)\n"
     ]
    },
    {
     "name": "stderr",
     "output_type": "stream",
     "text": [
      " 53%|███████████████████████████████████████████▊                                      | 39/73 [00:01<00:01, 25.03it/s]"
     ]
    },
    {
     "name": "stdout",
     "output_type": "stream",
     "text": [
      "(20, 102)\n",
      "(20, 94)\n",
      "(20, 96)\n",
      "(20, 101)\n",
      "(20, 84)\n",
      "(20, 113)\n"
     ]
    },
    {
     "name": "stderr",
     "output_type": "stream",
     "text": [
      " 62%|██████████████████████████████████████████████████▌                               | 45/73 [00:01<00:01, 24.53it/s]"
     ]
    },
    {
     "name": "stdout",
     "output_type": "stream",
     "text": [
      "(20, 105)\n",
      "(20, 99)\n",
      "(20, 99)\n",
      "(20, 104)\n",
      "(20, 118)\n",
      "(20, 105)\n"
     ]
    },
    {
     "name": "stderr",
     "output_type": "stream",
     "text": [
      " 70%|█████████████████████████████████████████████████████████▎                        | 51/73 [00:02<00:00, 24.65it/s]"
     ]
    },
    {
     "name": "stdout",
     "output_type": "stream",
     "text": [
      "(20, 112)\n",
      "(20, 111)\n",
      "(20, 94)\n",
      "(20, 106)\n",
      "(20, 88)\n",
      "(20, 105)\n"
     ]
    },
    {
     "name": "stderr",
     "output_type": "stream",
     "text": [
      " 78%|████████████████████████████████████████████████████████████████                  | 57/73 [00:02<00:00, 26.08it/s]"
     ]
    },
    {
     "name": "stdout",
     "output_type": "stream",
     "text": [
      "(20, 87)\n",
      "(20, 87)\n",
      "(20, 85)\n",
      "(20, 92)\n",
      "(20, 84)\n",
      "(20, 79)\n",
      "(20, 89)\n"
     ]
    },
    {
     "name": "stderr",
     "output_type": "stream",
     "text": [
      " 86%|██████████████████████████████████████████████████████████████████████▊           | 63/73 [00:02<00:00, 27.86it/s]"
     ]
    },
    {
     "name": "stdout",
     "output_type": "stream",
     "text": [
      "(20, 79)\n",
      "(20, 86)\n",
      "(20, 74)\n",
      "(20, 82)\n",
      "(20, 81)\n",
      "(20, 94)\n"
     ]
    },
    {
     "name": "stderr",
     "output_type": "stream",
     "text": [
      " 95%|█████████████████████████████████████████████████████████████████████████████▌    | 69/73 [00:02<00:00, 27.72it/s]"
     ]
    },
    {
     "name": "stdout",
     "output_type": "stream",
     "text": [
      "(20, 97)\n",
      "(20, 87)\n",
      "(20, 89)\n",
      "(20, 84)\n",
      "(20, 98)\n",
      "(20, 89)\n"
     ]
    },
    {
     "name": "stderr",
     "output_type": "stream",
     "text": [
      "100%|██████████████████████████████████████████████████████████████████████████████████| 73/73 [00:02<00:00, 25.37it/s]"
     ]
    },
    {
     "name": "stdout",
     "output_type": "stream",
     "text": [
      "(20, 82)\n",
      "(20, 98)\n"
     ]
    },
    {
     "name": "stderr",
     "output_type": "stream",
     "text": [
      "\n"
     ]
    }
   ],
   "source": [
    "cd.main()"
   ]
  },
  {
   "cell_type": "code",
   "execution_count": 7,
   "id": "75dc2d9c-6754-4bcc-8563-e06a9de3fb0b",
   "metadata": {},
   "outputs": [
    {
     "name": "stdout",
     "output_type": "stream",
     "text": [
      "[INFO] URMP Path: data\\good-sounds\n",
      "[INFO] Number of files: 73\n"
     ]
    },
    {
     "name": "stderr",
     "output_type": "stream",
     "text": [
      "Traceback (most recent call last):\n",
      "  File \"D:\\STMAE\\ddx7\\mystuff\\dataset\\create_data.py\", line 291, in <module>\n",
      "    main()\n",
      "  File \"D:\\STMAE\\ddx7\\mystuff\\dataset\\create_data.py\", line 288, in main\n",
      "    make_single_note_dataset('./data/good-sounds/', './data/train/')\n",
      "  File \"D:\\STMAE\\ddx7\\mystuff\\dataset\\create_data.py\", line 280, in make_single_note_dataset\n",
      "    dataprocessor.run_on_files('violin_laia_improvement_recordings/neumann/', dir_path, target_dir)\n",
      "  File \"D:\\STMAE\\ddx7\\mystuff\\dataset\\create_data.py\", line 89, in run_on_files\n",
      "    h5f = self.init_h5(output_dir)\n",
      "  File \"D:\\STMAE\\ddx7\\mystuff\\dataset\\create_data.py\", line 75, in init_h5\n",
      "    return h5py.File(data_dir / f'{self.sr}.h5', 'w')\n",
      "  File \"D:\\anaconda3\\envs\\ddx7\\lib\\site-packages\\h5py\\_hl\\files.py\", line 533, in __init__\n",
      "    fid = make_fid(name, mode, userblock_size, fapl, fcpl, swmr=swmr)\n",
      "  File \"D:\\anaconda3\\envs\\ddx7\\lib\\site-packages\\h5py\\_hl\\files.py\", line 232, in make_fid\n",
      "    fid = h5f.create(name, h5f.ACC_TRUNC, fapl=fapl, fcpl=fcpl)\n",
      "  File \"h5py\\_objects.pyx\", line 54, in h5py._objects.with_phil.wrapper\n",
      "  File \"h5py\\_objects.pyx\", line 55, in h5py._objects.with_phil.wrapper\n",
      "  File \"h5py\\h5f.pyx\", line 126, in h5py.h5f.create\n",
      "OSError: [Errno 0] Unable to create file (unable to lock file, errno = 0, error message = 'No error', Win32 GetLastError() = 33)\n"
     ]
    }
   ],
   "source": [
    "!python create_data.py"
   ]
  },
  {
   "cell_type": "code",
   "execution_count": null,
   "id": "55c3aad4-592e-415a-82ce-c9cb9d0de21d",
   "metadata": {},
   "outputs": [],
   "source": []
  }
 ],
 "metadata": {
  "kernelspec": {
   "display_name": "Python 3 (ipykernel)",
   "language": "python",
   "name": "python3"
  },
  "language_info": {
   "codemirror_mode": {
    "name": "ipython",
    "version": 3
   },
   "file_extension": ".py",
   "mimetype": "text/x-python",
   "name": "python",
   "nbconvert_exporter": "python",
   "pygments_lexer": "ipython3",
   "version": "3.9.17"
  }
 },
 "nbformat": 4,
 "nbformat_minor": 5
}
